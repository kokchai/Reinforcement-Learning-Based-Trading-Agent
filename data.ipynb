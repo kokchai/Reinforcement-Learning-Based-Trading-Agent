{
 "cells": [
  {
   "cell_type": "code",
   "execution_count": 1,
   "metadata": {},
   "outputs": [],
   "source": [
    "import os\n",
    "import pytz\n",
    "\n",
    "import numpy as np\n",
    "import pandas as pd\n",
    "import matplotlib.pyplot as plt\n",
    "\n",
    "from glob import glob\n",
    "from datetime import datetime, timezone\n",
    "from tqdm.notebook import tqdm"
   ]
  },
  {
   "cell_type": "code",
   "execution_count": 2,
   "metadata": {},
   "outputs": [],
   "source": [
    "columns = [\"Open time\", \"Open\", \"High\", \"Low\", \"Close\", \"Volume\", \"Close time\", \"Quote asset volume\", \"n(Trades)\", \"Taker buy base asset volume\", \"Taker buy quote asset volume\", \"Ignore\"]"
   ]
  },
  {
   "cell_type": "code",
   "execution_count": 3,
   "metadata": {},
   "outputs": [
    {
     "data": {
      "application/vnd.jupyter.widget-view+json": {
       "model_id": "7ffd316bfb7d4733a3b3b846f75a4e74",
       "version_major": 2,
       "version_minor": 0
      },
      "text/plain": [
       "  0%|          | 0/53 [00:00<?, ?it/s]"
      ]
     },
     "metadata": {},
     "output_type": "display_data"
    },
    {
     "data": {
      "application/vnd.jupyter.widget-view+json": {
       "model_id": "39b285ede18e4087a3457212989a1921",
       "version_major": 2,
       "version_minor": 0
      },
      "text/plain": [
       "  0%|          | 0/53 [00:00<?, ?it/s]"
      ]
     },
     "metadata": {},
     "output_type": "display_data"
    },
    {
     "data": {
      "application/vnd.jupyter.widget-view+json": {
       "model_id": "cfe6a78d553146c280857e23bfa283c5",
       "version_major": 2,
       "version_minor": 0
      },
      "text/plain": [
       "  0%|          | 0/50 [00:00<?, ?it/s]"
      ]
     },
     "metadata": {},
     "output_type": "display_data"
    },
    {
     "data": {
      "application/vnd.jupyter.widget-view+json": {
       "model_id": "6607840d723242e1ba819adb4f7ea205",
       "version_major": 2,
       "version_minor": 0
      },
      "text/plain": [
       "  0%|          | 0/17 [00:00<?, ?it/s]"
      ]
     },
     "metadata": {},
     "output_type": "display_data"
    },
    {
     "data": {
      "application/vnd.jupyter.widget-view+json": {
       "model_id": "78412640766544b4bb305f2424fd1ef5",
       "version_major": 2,
       "version_minor": 0
      },
      "text/plain": [
       "  0%|          | 0/45 [00:00<?, ?it/s]"
      ]
     },
     "metadata": {},
     "output_type": "display_data"
    }
   ],
   "source": [
    "btc_dirs_1d = glob(os.getcwd()+\"\\\\Data\\\\01 - BTCUSDT\\\\1d\\\\*.csv\")\n",
    "eth_dirs_1d = glob(os.getcwd()+\"\\\\Data\\\\02 - ETHUSDT\\\\1d\\\\*.csv\")\n",
    "bnb_dirs_1d = glob(os.getcwd()+\"\\\\Data\\\\03 - BNBUSDT\\\\1d\\\\*.csv\")\n",
    "sol_dirs_1d = glob(os.getcwd()+\"\\\\Data\\\\04 - SOLUSDT\\\\1d\\\\*.csv\")\n",
    "ada_dirs_1d = glob(os.getcwd()+\"\\\\Data\\\\05 - ADAUSDT\\\\1d\\\\*.csv\")\n",
    "\n",
    "btc_usdt_1d = list()\n",
    "for file in tqdm(btc_dirs_1d):\n",
    "    data = pd.read_csv(file, header=None)\n",
    "    for line in data.values.tolist():\n",
    "        btc_usdt_1d.append(line)\n",
    "btc_usdt_1d = pd.DataFrame(btc_usdt_1d, columns=columns)\n",
    "btc_usdt_1d = btc_usdt_1d.loc[btc_usdt_1d[\"Ignore\"]==0, [\"Open time\", \"Open\", \"High\", \"Low\", \"Close\", \"Volume\", \"n(Trades)\"]]\n",
    "btc_usdt_1d = btc_usdt_1d.reset_index(drop=True)\n",
    "\n",
    "eth_usdt_1d = list()\n",
    "for file in tqdm(eth_dirs_1d):\n",
    "    data = pd.read_csv(file, header=None)\n",
    "    for line in data.values.tolist():\n",
    "        eth_usdt_1d.append(line)\n",
    "eth_usdt_1d = pd.DataFrame(eth_usdt_1d, columns=columns)\n",
    "eth_usdt_1d = eth_usdt_1d.loc[eth_usdt_1d[\"Ignore\"]==0, [\"Open time\", \"Open\", \"High\", \"Low\", \"Close\", \"Volume\", \"n(Trades)\"]]\n",
    "eth_usdt_1d = eth_usdt_1d.reset_index(drop=True)\n",
    "\n",
    "bnb_usdt_1d = list()\n",
    "for file in tqdm(bnb_dirs_1d):\n",
    "    data = pd.read_csv(file, header=None)\n",
    "    for line in data.values.tolist():\n",
    "        bnb_usdt_1d.append(line)\n",
    "bnb_usdt_1d = pd.DataFrame(bnb_usdt_1d, columns=columns)\n",
    "bnb_usdt_1d = bnb_usdt_1d.loc[bnb_usdt_1d[\"Ignore\"]==0, [\"Open time\", \"Open\", \"High\", \"Low\", \"Close\", \"Volume\", \"n(Trades)\"]]\n",
    "bnb_usdt_1d = bnb_usdt_1d.reset_index(drop=True)\n",
    "\n",
    "sol_usdt_1d = list()\n",
    "for file in tqdm(sol_dirs_1d):\n",
    "    data = pd.read_csv(file, header=None)\n",
    "    for line in data.values.tolist():\n",
    "        sol_usdt_1d.append(line)\n",
    "sol_usdt_1d = pd.DataFrame(sol_usdt_1d, columns=columns)\n",
    "sol_usdt_1d = sol_usdt_1d.loc[sol_usdt_1d[\"Ignore\"]==0, [\"Open time\", \"Open\", \"High\", \"Low\", \"Close\", \"Volume\", \"n(Trades)\"]]\n",
    "sol_usdt_1d = sol_usdt_1d.reset_index(drop=True)\n",
    "\n",
    "ada_usdt_1d = list()\n",
    "for file in tqdm(ada_dirs_1d):\n",
    "    data = pd.read_csv(file, header=None)\n",
    "    for line in data.values.tolist():\n",
    "        ada_usdt_1d.append(line)\n",
    "ada_usdt_1d = pd.DataFrame(ada_usdt_1d, columns=columns)\n",
    "ada_usdt_1d = ada_usdt_1d.loc[ada_usdt_1d[\"Ignore\"]==0, [\"Open time\", \"Open\", \"High\", \"Low\", \"Close\", \"Volume\", \"n(Trades)\"]]\n",
    "ada_usdt_1d = ada_usdt_1d.reset_index(drop=True)"
   ]
  },
  {
   "cell_type": "code",
   "execution_count": 4,
   "metadata": {},
   "outputs": [],
   "source": [
    "data_1d = [btc_usdt_1d, eth_usdt_1d, bnb_usdt_1d, sol_usdt_1d, ada_usdt_1d]"
   ]
  },
  {
   "cell_type": "code",
   "execution_count": 5,
   "metadata": {},
   "outputs": [],
   "source": [
    "def featureEngineering(df):\n",
    "    \n",
    "    def _rsi(df, periods=14, ema=True):\n",
    "        close_delta = df[\"Close\"].diff()\n",
    "        up = close_delta.clip(lower=0)\n",
    "        down = -close_delta.clip(upper=0)\n",
    "        ma_up = up.ewm(com=periods-1, adjust=True, min_periods=periods).mean()\n",
    "        ma_down = down.ewm(com=periods-1, adjust=True, min_periods=periods).mean()\n",
    "        rsi = ma_up / ma_down\n",
    "        rsi = 100 - (100/(1+rsi))\n",
    "        return rsi\n",
    "    \n",
    "    def _cci(df, periods=20):\n",
    "        cci = pd.DataFrame(np.mean([df[\"High\"], df[\"Low\"], df[\"Close\"]], axis=0), columns=[\"TP\"])\n",
    "        cci[\"MA\"] = cci[\"TP\"].rolling(periods).mean()\n",
    "        cci[\"MAD\"] = cci[\"TP\"].rolling(periods).apply(lambda x: pd.Series(x).mad())\n",
    "        cci[\"CCI\"] = (cci[\"TP\"]-cci[\"MA\"]) / (0.015*cci[\"MAD\"])\n",
    "        return cci[\"CCI\"]\n",
    "\n",
    "    df[\"MA(7)\"] = df[\"Close\"].rolling(7).mean()\n",
    "    df[\"MA(25)\"] = df[\"Close\"].rolling(25).mean()\n",
    "    df[\"MA(99)\"] = df[\"Close\"].rolling(99).mean()\n",
    "    \n",
    "    df[\"Change\"] = (df[\"Close\"] - df[\"Open\"]) / df[\"Open\"]\n",
    "    df[\"Amplitude\"] = (df[\"High\"] - df[\"Low\"]) / df[\"Open\"]\n",
    "    \n",
    "    df[\"RSI\"] = _rsi(df)\n",
    "    df[\"CCI\"] = _cci(df)"
   ]
  },
  {
   "cell_type": "code",
   "execution_count": 6,
   "metadata": {},
   "outputs": [
    {
     "data": {
      "application/vnd.jupyter.widget-view+json": {
       "model_id": "3444ed2e572e40d3ae1e138b1cd72e94",
       "version_major": 2,
       "version_minor": 0
      },
      "text/plain": [
       "  0%|          | 0/5 [00:00<?, ?it/s]"
      ]
     },
     "metadata": {},
     "output_type": "display_data"
    }
   ],
   "source": [
    "for df in tqdm(data_1d):\n",
    "    featureEngineering(df)"
   ]
  },
  {
   "cell_type": "code",
   "execution_count": null,
   "metadata": {},
   "outputs": [],
   "source": [
    "data_1d[0].to_csv(os.getcwd()+\"\\\\Data\\\\00 - Processed\\\\1d\\\\BTCUSDT-1d-010817-311221.csv\", index=False)\n",
    "data_1d[1].to_csv(os.getcwd()+\"\\\\Data\\\\00 - Processed\\\\1d\\\\ETHUSDT-1d-010817-311221.csv\", index=False)\n",
    "data_1d[2].to_csv(os.getcwd()+\"\\\\Data\\\\00 - Processed\\\\1d\\\\BNBUSDT-1d-011117-311221.csv\", index=False)\n",
    "data_1d[3].to_csv(os.getcwd()+\"\\\\Data\\\\00 - Processed\\\\1d\\\\SOLUSDT-1d-010820-311221.csv\", index=False)\n",
    "data_1d[4].to_csv(os.getcwd()+\"\\\\Data\\\\00 - Processed\\\\1d\\\\ADAUSDT-1d-010518-311221.csv\", index=False)"
   ]
  }
 ],
 "metadata": {
  "kernelspec": {
   "display_name": "Python 3 (ipykernel)",
   "language": "python",
   "name": "python3"
  },
  "language_info": {
   "codemirror_mode": {
    "name": "ipython",
    "version": 3
   },
   "file_extension": ".py",
   "mimetype": "text/x-python",
   "name": "python",
   "nbconvert_exporter": "python",
   "pygments_lexer": "ipython3",
   "version": "3.7.11"
  }
 },
 "nbformat": 4,
 "nbformat_minor": 4
}
