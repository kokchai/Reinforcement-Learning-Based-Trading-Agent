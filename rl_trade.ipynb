{
 "cells": [
  {
   "cell_type": "markdown",
   "id": "e506484d",
   "metadata": {},
   "source": [
    "# Reinforcement Learning-Based Trading Agent\n",
    "\n",
    "### How to use:\n",
    "#### 1) Enter config/config.py to change simulation parameters (initial capital, initial holdings, trading fee %, operating mode (sharpe/returns)\n",
    "#### 2) Run the code below, change ticker and model respectively for different simulations\n",
    "\n",
    "\n",
    "##### Possible tickers: BTC, ETH, BNB, SOL, ADA\n",
    "##### Possible models: A2C, ACKTR, PPO\n",
    "\n",
    "*The code will display quite a number of deprecation warnings, as the stable-baselines library used is built on Tensorflow 1.15. There is no impact to the operation of the code."
   ]
  },
  {
   "cell_type": "code",
   "execution_count": 1,
   "id": "11cf3f6d",
   "metadata": {
    "scrolled": false
   },
   "outputs": [
    {
     "name": "stderr",
     "output_type": "stream",
     "text": [
      "C:\\Users\\KC\\anaconda3\\envs\\RLTrade\\lib\\site-packages\\ale_py\\roms\\utils.py:90: DeprecationWarning: SelectableGroups dict interface is deprecated. Use select.\n",
      "  for external in metadata.entry_points().get(self.group, []):\n"
     ]
    },
    {
     "name": "stdout",
     "output_type": "stream",
     "text": [
      "WARNING:tensorflow:\n",
      "The TensorFlow contrib module will not be included in TensorFlow 2.0.\n",
      "For more information, please see:\n",
      "  * https://github.com/tensorflow/community/blob/master/rfcs/20180907-contrib-sunset.md\n",
      "  * https://github.com/tensorflow/addons\n",
      "  * https://github.com/tensorflow/io (for I/O related ops)\n",
      "If you depend on functionality not listed there, please file an issue.\n",
      "\n"
     ]
    },
    {
     "name": "stderr",
     "output_type": "stream",
     "text": [
      "C:\\Users\\KC\\anaconda3\\envs\\RLTrade\\lib\\site-packages\\stable_baselines\\__init__.py:33: UserWarning: stable-baselines is in maintenance mode, please use [Stable-Baselines3 (SB3)](https://github.com/DLR-RM/stable-baselines3) for an up-to-date version. You can find a [migration guide](https://stable-baselines3.readthedocs.io/en/master/guide/migration.html) in SB3 documentation.\n",
      "  \"stable-baselines is in maintenance mode, please use [Stable-Baselines3 (SB3)](https://github.com/DLR-RM/stable-baselines3) for an up-to-date version. You can find a [migration guide](https://stable-baselines3.readthedocs.io/en/master/guide/migration.html) in SB3 documentation.\"\n"
     ]
    }
   ],
   "source": [
    "import os\n",
    "import time\n",
    "\n",
    "import numpy as np\n",
    "import pandas as pd\n",
    "\n",
    "from glob import glob\n",
    "from model.models import *\n",
    "from stable_baselines.common.vec_env import DummyVecEnv\n",
    "\n",
    "def run_model(ticker, model, freq='1d') -> None:\n",
    "    # read and preprocess data\n",
    "    data = pd.read_csv(glob(os.getcwd() + '\\\\Data\\\\00 - Processed\\\\1d\\\\'+ticker+'*')[0])\n",
    "    data = data.iloc[98:, :].reset_index(drop=True)\n",
    "    data['Open time'] = pd.to_datetime(data['Open time'])\n",
    "    \n",
    "    start_date = datetime.strptime(\"01-01-2021\", \"%d-%m-%Y\")\n",
    "    end_date = datetime.strptime(\"01-01-2022\", \"%d-%m-%Y\")\n",
    "    \n",
    "    rebalance_window = 90 # retrain on a quarterly basis\n",
    "    validation_window = 90 # validation on a quarterly basis\n",
    "    \n",
    "    unique_trade_date = data[(data['Open time']>=start_date) & (data['Open time']<end_date)]['Open time'].unique()\n",
    "\n",
    "    ## Ensemble Strategy\n",
    "    run_RLTrade(df=data, ticker=ticker, model=model, unique_trade_date=unique_trade_date, rebalance_window=rebalance_window, validation_window=validation_window)"
   ]
  },
  {
   "cell_type": "code",
   "execution_count": 2,
   "id": "e89f77a4",
   "metadata": {
    "scrolled": false
   },
   "outputs": [
    {
     "name": "stdout",
     "output_type": "stream",
     "text": [
      "======A2C Training========\n",
      "WARNING:tensorflow:From C:\\Users\\KC\\anaconda3\\envs\\RLTrade\\lib\\site-packages\\stable_baselines\\common\\tf_util.py:191: The name tf.ConfigProto is deprecated. Please use tf.compat.v1.ConfigProto instead.\n",
      "\n",
      "WARNING:tensorflow:From C:\\Users\\KC\\anaconda3\\envs\\RLTrade\\lib\\site-packages\\stable_baselines\\common\\tf_util.py:200: The name tf.Session is deprecated. Please use tf.compat.v1.Session instead.\n",
      "\n",
      "WARNING:tensorflow:From C:\\Users\\KC\\anaconda3\\envs\\RLTrade\\lib\\site-packages\\stable_baselines\\common\\policies.py:116: The name tf.variable_scope is deprecated. Please use tf.compat.v1.variable_scope instead.\n",
      "\n",
      "WARNING:tensorflow:From C:\\Users\\KC\\anaconda3\\envs\\RLTrade\\lib\\site-packages\\stable_baselines\\common\\input.py:25: The name tf.placeholder is deprecated. Please use tf.compat.v1.placeholder instead.\n",
      "\n",
      "WARNING:tensorflow:From C:\\Users\\KC\\anaconda3\\envs\\RLTrade\\lib\\site-packages\\stable_baselines\\common\\policies.py:420: flatten (from tensorflow.python.layers.core) is deprecated and will be removed in a future version.\n",
      "Instructions for updating:\n",
      "Use keras.layers.flatten instead.\n",
      "WARNING:tensorflow:From C:\\Users\\KC\\anaconda3\\envs\\RLTrade\\lib\\site-packages\\tensorflow_core\\python\\layers\\core.py:332: Layer.apply (from tensorflow.python.keras.engine.base_layer) is deprecated and will be removed in a future version.\n",
      "Instructions for updating:\n",
      "Please use `layer.__call__` method instead.\n",
      "WARNING:tensorflow:From C:\\Users\\KC\\anaconda3\\envs\\RLTrade\\lib\\site-packages\\stable_baselines\\common\\tf_layers.py:123: The name tf.get_variable is deprecated. Please use tf.compat.v1.get_variable instead.\n",
      "\n",
      "WARNING:tensorflow:From C:\\Users\\KC\\anaconda3\\envs\\RLTrade\\lib\\site-packages\\stable_baselines\\common\\distributions.py:418: The name tf.random_normal is deprecated. Please use tf.random.normal instead.\n",
      "\n",
      "WARNING:tensorflow:From C:\\Users\\KC\\anaconda3\\envs\\RLTrade\\lib\\site-packages\\stable_baselines\\a2c\\a2c.py:160: The name tf.summary.scalar is deprecated. Please use tf.compat.v1.summary.scalar instead.\n",
      "\n",
      "WARNING:tensorflow:From C:\\Users\\KC\\anaconda3\\envs\\RLTrade\\lib\\site-packages\\stable_baselines\\common\\tf_util.py:449: The name tf.get_collection is deprecated. Please use tf.compat.v1.get_collection instead.\n",
      "\n",
      "WARNING:tensorflow:From C:\\Users\\KC\\anaconda3\\envs\\RLTrade\\lib\\site-packages\\stable_baselines\\common\\tf_util.py:449: The name tf.GraphKeys is deprecated. Please use tf.compat.v1.GraphKeys instead.\n",
      "\n",
      "WARNING:tensorflow:From C:\\Users\\KC\\anaconda3\\envs\\RLTrade\\lib\\site-packages\\tensorflow_core\\python\\ops\\clip_ops.py:301: where (from tensorflow.python.ops.array_ops) is deprecated and will be removed in a future version.\n",
      "Instructions for updating:\n",
      "Use tf.where in 2.0, which has the same broadcast rule as np.where\n",
      "WARNING:tensorflow:From C:\\Users\\KC\\anaconda3\\envs\\RLTrade\\lib\\site-packages\\stable_baselines\\a2c\\a2c.py:184: The name tf.train.RMSPropOptimizer is deprecated. Please use tf.compat.v1.train.RMSPropOptimizer instead.\n",
      "\n",
      "WARNING:tensorflow:From C:\\Users\\KC\\anaconda3\\envs\\RLTrade\\lib\\site-packages\\tensorflow_core\\python\\training\\rmsprop.py:119: calling Ones.__init__ (from tensorflow.python.ops.init_ops) with dtype is deprecated and will be removed in a future version.\n",
      "Instructions for updating:\n",
      "Call initializer instance with the dtype argument instead of passing it to the constructor\n",
      "WARNING:tensorflow:From C:\\Users\\KC\\anaconda3\\envs\\RLTrade\\lib\\site-packages\\stable_baselines\\a2c\\a2c.py:194: The name tf.global_variables_initializer is deprecated. Please use tf.compat.v1.global_variables_initializer instead.\n",
      "\n",
      "WARNING:tensorflow:From C:\\Users\\KC\\anaconda3\\envs\\RLTrade\\lib\\site-packages\\stable_baselines\\a2c\\a2c.py:196: The name tf.summary.merge_all is deprecated. Please use tf.compat.v1.summary.merge_all instead.\n",
      "\n"
     ]
    },
    {
     "name": "stderr",
     "output_type": "stream",
     "text": [
      "C:\\Users\\KC\\Documents\\Uni\\SEM 4\\Project Paper\\Submission\\Code\\environments\\sharpe\\train.py:121: RuntimeWarning: invalid value encountered in double_scalars\n",
      "  sharpe = (252**0.5) * df_total_value['daily_return'].mean() / df_total_value['daily_return'].std()\n"
     ]
    },
    {
     "name": "stdout",
     "output_type": "stream",
     "text": [
      "A2C Training Time: 175.0178 seconds\n",
      "======A2C Validation from:  2021-01-01T00:00:00.000000000 to  2021-04-01T00:00:00.000000000\n",
      "A2C Sharpe Ratio:  4.148045077462408\n",
      "======A2C Trading from:  2021-04-01T00:00:00.000000000 to  2021-06-30T00:00:00.000000000\n",
      "======A2C Training========\n"
     ]
    },
    {
     "name": "stderr",
     "output_type": "stream",
     "text": [
      "C:\\Users\\KC\\Documents\\Uni\\SEM 4\\Project Paper\\Submission\\Code\\environments\\sharpe\\train.py:121: RuntimeWarning: invalid value encountered in double_scalars\n",
      "  sharpe = (252**0.5) * df_total_value['daily_return'].mean() / df_total_value['daily_return'].std()\n"
     ]
    },
    {
     "name": "stdout",
     "output_type": "stream",
     "text": [
      "A2C Training Time: 113.7634 seconds\n",
      "======A2C Validation from:  2021-04-01T00:00:00.000000000 to  2021-06-30T00:00:00.000000000\n",
      "A2C Sharpe Ratio:  1.6585279656068337\n",
      "======A2C Trading from:  2021-06-30T00:00:00.000000000 to  2021-09-28T00:00:00.000000000\n",
      "======A2C Training========\n",
      "A2C Training Time: 142.1048 seconds\n",
      "======A2C Validation from:  2021-06-30T00:00:00.000000000 to  2021-09-28T00:00:00.000000000\n",
      "A2C Sharpe Ratio:  4.070286140100924\n",
      "======A2C Trading from:  2021-09-28T00:00:00.000000000 to  2021-12-27T00:00:00.000000000\n"
     ]
    }
   ],
   "source": [
    "ticker = 'SOL'\n",
    "model  = 'A2C'\n",
    "\n",
    "run_model(ticker=ticker, model=model)"
   ]
  },
  {
   "cell_type": "code",
   "execution_count": null,
   "id": "10b3ed53",
   "metadata": {},
   "outputs": [],
   "source": [
    "ticker = 'SOL'\n",
    "model  = 'ACKTR'\n",
    "\n",
    "run_model(ticker=ticker, model=model)"
   ]
  },
  {
   "cell_type": "code",
   "execution_count": 3,
   "id": "271c9024",
   "metadata": {},
   "outputs": [
    {
     "name": "stdout",
     "output_type": "stream",
     "text": [
      "======PPO Training========\n",
      "WARNING:tensorflow:From C:\\Users\\KC\\anaconda3\\envs\\RLTrade\\lib\\site-packages\\stable_baselines\\ppo2\\ppo2.py:198: The name tf.trainable_variables is deprecated. Please use tf.compat.v1.trainable_variables instead.\n",
      "\n",
      "WARNING:tensorflow:From C:\\Users\\KC\\anaconda3\\envs\\RLTrade\\lib\\site-packages\\stable_baselines\\ppo2\\ppo2.py:206: The name tf.train.AdamOptimizer is deprecated. Please use tf.compat.v1.train.AdamOptimizer instead.\n",
      "\n",
      "PPO Training Time: 171.5366 seconds\n",
      "======PPO Validation from:  2021-01-01T00:00:00.000000000 to  2021-04-01T00:00:00.000000000\n",
      "PPO Sharpe Ratio:  3.6810942992274476\n",
      "======PPO Trading from:  2021-04-01T00:00:00.000000000 to  2021-06-30T00:00:00.000000000\n",
      "======PPO Training========\n",
      "PPO Training Time: 141.4702 seconds\n",
      "======PPO Validation from:  2021-04-01T00:00:00.000000000 to  2021-06-30T00:00:00.000000000\n",
      "PPO Sharpe Ratio:  0.5502129093539511\n",
      "======PPO Trading from:  2021-06-30T00:00:00.000000000 to  2021-09-28T00:00:00.000000000\n",
      "======PPO Training========\n",
      "PPO Training Time: 142.7513 seconds\n",
      "======PPO Validation from:  2021-06-30T00:00:00.000000000 to  2021-09-28T00:00:00.000000000\n",
      "PPO Sharpe Ratio:  3.3641108208874453\n",
      "======PPO Trading from:  2021-09-28T00:00:00.000000000 to  2021-12-27T00:00:00.000000000\n"
     ]
    }
   ],
   "source": [
    "ticker = 'SOL'\n",
    "model  = 'PPO'\n",
    "\n",
    "run_model(ticker=ticker, model=model)"
   ]
  },
  {
   "cell_type": "code",
   "execution_count": null,
   "id": "babcca1d",
   "metadata": {},
   "outputs": [],
   "source": []
  }
 ],
 "metadata": {
  "kernelspec": {
   "display_name": "Python 3 (ipykernel)",
   "language": "python",
   "name": "python3"
  },
  "language_info": {
   "codemirror_mode": {
    "name": "ipython",
    "version": 3
   },
   "file_extension": ".py",
   "mimetype": "text/x-python",
   "name": "python",
   "nbconvert_exporter": "python",
   "pygments_lexer": "ipython3",
   "version": "3.7.11"
  }
 },
 "nbformat": 4,
 "nbformat_minor": 5
}
